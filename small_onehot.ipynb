{
 "cells": [
  {
   "cell_type": "code",
   "execution_count": 1,
   "metadata": {
    "collapsed": true
   },
   "outputs": [],
   "source": [
    "import os\n",
    "import numpy as np\n",
    "import pandas as pd\n",
    "import matplotlib.pyplot as plt\n",
    "import seaborn as sns\n",
    "%matplotlib inline"
   ]
  },
  {
   "cell_type": "code",
   "execution_count": 2,
   "metadata": {
    "collapsed": true
   },
   "outputs": [],
   "source": [
    "def readin_small_data():\n",
    "    \"\"\"Read small data set into a 2D numpy array\n",
    "    return: numpy array contains the small data set, shape: (50,000, 230)\n",
    "    \"\"\"\n",
    "    PATH = os.getcwd()\n",
    "    NUM_DATA_PATH = os.path.join(PATH, 'small_clean_numerical_data.csv')\n",
    "    CAT_DATA_PATH = os.path.join(PATH, 'small_clean_categorical_data.csv')\n",
    "    \n",
    "    numerical_data = pd.read_csv(NUM_DATA_PATH, delimiter=',')\n",
    "    categorical_data = pd.read_csv(CAT_DATA_PATH, delimiter=',')\n",
    "    \n",
    "    return numerical_data, categorical_data"
   ]
  },
  {
   "cell_type": "code",
   "execution_count": 3,
   "metadata": {},
   "outputs": [
    {
     "name": "stdout",
     "output_type": "stream",
     "text": [
      "(50000, 42)\n",
      "(50000, 29)\n"
     ]
    }
   ],
   "source": [
    "numerical_data, categorical_data = readin_small_data()\n",
    "print(numerical_data.shape)\n",
    "print(categorical_data.shape)"
   ]
  },
  {
   "cell_type": "code",
   "execution_count": 4,
   "metadata": {
    "collapsed": true,
    "scrolled": true
   },
   "outputs": [],
   "source": [
    "del numerical_data['Unnamed: 0']"
   ]
  },
  {
   "cell_type": "code",
   "execution_count": 5,
   "metadata": {
    "collapsed": true
   },
   "outputs": [],
   "source": [
    "del categorical_data['Unnamed: 0']"
   ]
  },
  {
   "cell_type": "code",
   "execution_count": 6,
   "metadata": {},
   "outputs": [
    {
     "name": "stdout",
     "output_type": "stream",
     "text": [
      "                                   Var193            Var195 Var196 Var203  \\\n",
      "0                                    RO12              taul   1K8T   9_Y1   \n",
      "1                                    RO12              taul   1K8T   9_Y1   \n",
      "2                                 AERks4l              taul   1K8T   9_Y1   \n",
      "3                                    RO12              taul   1K8T   9_Y1   \n",
      "4                                    RO12              taul   1K8T   9_Y1   \n",
      "5                                 2Knk1KF              taul   1K8T   9_Y1   \n",
      "6                                 2Knk1KF              taul   1K8T   9_Y1   \n",
      "7                                    RO12        LfvqpCtLOY   1K8T   9_Y1   \n",
      "8                                    RO12              taul   1K8T   HLqf   \n",
      "9                                 2Knk1KF              taul   1K8T   9_Y1   \n",
      "10                             g62hiBSaKg              taul   1K8T   9_Y1   \n",
      "11                                   RO12              taul   1K8T   9_Y1   \n",
      "12     onTuEhrJJQy_H3IHkZku5AFczhYGqxJ890              taul   1K8T   9_Y1   \n",
      "13                                   RO12              taul   1K8T   9_Y1   \n",
      "14                                   RO12              taul   1K8T   9_Y1   \n",
      "15                                2Knk1KF              taul   1K8T   dgxZ   \n",
      "16     onTuEhrJJQy_H3IHkZku5AFczhYGqxJ890              taul   1K8T   HLqf   \n",
      "17                                AERks4l              taul   1K8T   HLqf   \n",
      "18                                   RO12              taul   1K8T   9_Y1   \n",
      "19                                   RO12              taul   1K8T   9_Y1   \n",
      "20                                   RO12              taul   1K8T   9_Y1   \n",
      "21                                   RO12              taul   1K8T   9_Y1   \n",
      "22                                   RO12              taul   1K8T   9_Y1   \n",
      "23                                   RO12              taul   1K8T   9_Y1   \n",
      "24                                   RO12              taul   1K8T   9_Y1   \n",
      "25                                   RO12              taul   1K8T   9_Y1   \n",
      "26                                   RO12              taul   1K8T   9_Y1   \n",
      "27                                   RO12              taul   1K8T   9_Y1   \n",
      "28                                2Knk1KF        LfvqpCtLOY   1K8T   9_Y1   \n",
      "29                                   RO12              taul   1K8T   9_Y1   \n",
      "...                                   ...               ...    ...    ...   \n",
      "49970                                RO12              taul   1K8T   9_Y1   \n",
      "49971                                RO12              taul   1K8T   9_Y1   \n",
      "49972                                RO12              taul   1K8T   9_Y1   \n",
      "49973              z3s4Ji522ZB1FauqOOqbkl  CiJDdr4TQ0rGERIS   1K8T   9_Y1   \n",
      "49974                                RO12              taul   1K8T   9_Y1   \n",
      "49975                                RO12              taul   1K8T   9_Y1   \n",
      "49976                             AERks4l              taul   1K8T   9_Y1   \n",
      "49977                 rEUOq2QD1qfkRr6qpua              taul   1K8T   9_Y1   \n",
      "49978                                RO12              taul   1K8T   9_Y1   \n",
      "49979                                RO12              taul   1K8T   9_Y1   \n",
      "49980                             2Knk1KF  CiJDdr4TQ0rGERIS   1K8T   9_Y1   \n",
      "49981                                RO12              taul   1K8T   9_Y1   \n",
      "49982                                RO12              taul   1K8T   9_Y1   \n",
      "49983                                RO12              taul   1K8T   9_Y1   \n",
      "49984                          e6CkoqApVR              taul   1K8T   HLqf   \n",
      "49985                             2Knk1KF              taul   1K8T   9_Y1   \n",
      "49986                                RO12              taul   1K8T   9_Y1   \n",
      "49987                                RO12              taul   1K8T   9_Y1   \n",
      "49988                                RO12              taul   1K8T   F3hy   \n",
      "49989                                RO12              taul   1K8T   9_Y1   \n",
      "49990                             2Knk1KF              taul   1K8T   HLqf   \n",
      "49991                                RO12              taul   1K8T   HLqf   \n",
      "49992                                RO12              taul   1K8T   9_Y1   \n",
      "49993                                RO12              taul   1K8T   HLqf   \n",
      "49994                                RO12              taul   1K8T   9_Y1   \n",
      "49995                                RO12              taul   1K8T   9_Y1   \n",
      "49996                             2Knk1KF     I9xt3GBDKUbd8   1K8T   9_Y1   \n",
      "49997                             2Knk1KF              taul   1K8T   F3hy   \n",
      "49998                                RO12              taul   1K8T   9_Y1   \n",
      "49999                                RO12              taul   1K8T   9_Y1   \n",
      "\n",
      "      Var204   Var205   Var206                     Var207 Var208 Var210  \\\n",
      "0       FbIm     VpdQ     haYg                 me75fM6ugJ   kIsH   uKAI   \n",
      "1       k13i  sJzTlal     zm5i                 me75fM6ugJ   kIsH   uKAI   \n",
      "2       MGOA     VpdQ     haYg  DHn_WUyBhW_whjA88g9bvA64_   kIsH   uKAI   \n",
      "3       YULl     VpdQ     IYzP                 me75fM6ugJ   kIsH   uKAI   \n",
      "4       RVjC  sJzTlal     6JmL                 me75fM6ugJ   kIsH   uKAI   \n",
      "5       yrDU     VpdQ     wMei  DHn_WUyBhW_whjA88g9bvA64_   kIsH   uKAI   \n",
      "6       15m3     VpdQ     haYg                 me75fM6ugJ   kIsH   uKAI   \n",
      "7       RVjC     VpdQ     IYzP                 me75fM6ugJ   kIsH   uKAI   \n",
      "8       Px52     VpdQ     IYzP                       Kxdu   sBgB   7A3j   \n",
      "9       mTeA     VpdQ     giwq                 me75fM6ugJ   kIsH   uKAI   \n",
      "10      MBhA  sJzTlal     haYg        7M47J5GA0pTYIFxg5uy   kIsH   uKAI   \n",
      "11      RVjC  sJzTlal     sYC_                 me75fM6ugJ   kIsH   uKAI   \n",
      "12      em8I     VpdQ     hAFG        7M47J5GA0pTYIFxg5uy   kIsH   g5HH   \n",
      "13      rGJy     VpdQ     IYzP                 me75fM6ugJ   kIsH   uKAI   \n",
      "14      0A_v     VpdQ     zm5i                 me75fM6ugJ   kIsH   uKAI   \n",
      "15      4N0K     VpdQ     wMei                 me75fM6ugJ   sBgB   uKAI   \n",
      "16      mTeA     09_Q     hAFG        7M47J5GA0pTYIFxg5uy   sBgB   uKAI   \n",
      "17      1Bp0     VpdQ     wMei        7M47J5GA0pTYIFxg5uy   sBgB   uKAI   \n",
      "18      RVjC     VpdQ     IYzP                 me75fM6ugJ   kIsH   uKAI   \n",
      "19      xQ2A     VpdQ     sYC_                 me75fM6ugJ   kIsH   uKAI   \n",
      "20      AKLO     VpdQ     IYzP                 me75fM6ugJ   kIsH   uKAI   \n",
      "21      RVjC  sJzTlal     IYzP                 me75fM6ugJ   kIsH   uKAI   \n",
      "22      LqKm     VpdQ     IYzP                 me75fM6ugJ   kIsH   uKAI   \n",
      "23      m_h1     VpdQ     IYzP                 me75fM6ugJ   kIsH   uKAI   \n",
      "24      k13i     VpdQ     kxE9                 me75fM6ugJ   kIsH   uKAI   \n",
      "25      e7QV     VpdQ  43pnToF  DHn_WUyBhW_whjA88g9bvA64_   kIsH   uKAI   \n",
      "26      TjV7     VpdQ     IYzP                 me75fM6ugJ   kIsH   uKAI   \n",
      "27      TFSW     VpdQ     sYC_                 me75fM6ugJ   kIsH   uKAI   \n",
      "28      cyKH     VpdQ     haYg                 me75fM6ugJ   kIsH   g5HH   \n",
      "29      F_Lu     09_Q     zm5i                 me75fM6ugJ   kIsH   uKAI   \n",
      "...      ...      ...      ...                        ...    ...    ...   \n",
      "49970   k13i     VpdQ     IYzP                 me75fM6ugJ   kIsH   uKAI   \n",
      "49971   DtNL  sJzTlal     IYzP                 me75fM6ugJ   kIsH   uKAI   \n",
      "49972   YGOC     VpdQ     itlM                 me75fM6ugJ   kIsH   uKAI   \n",
      "49973   yrDU     VpdQ     oZyB        7M47J5GA0pTYIFxg5uy   kIsH   uKAI   \n",
      "49974   fTh6     09_Q     IYzP                 me75fM6ugJ   kIsH   uKAI   \n",
      "49975   Z5OU     VpdQ     CoYW                 me75fM6ugJ   kIsH   uKAI   \n",
      "49976   jdbz     VpdQ     hAFG        7M47J5GA0pTYIFxg5uy   kIsH   uKAI   \n",
      "49977   SkZj     VpdQ     kxE9        7M47J5GA0pTYIFxg5uy   kIsH   uKAI   \n",
      "49978   YULl     VpdQ     IYzP                 me75fM6ugJ   kIsH   uKAI   \n",
      "49979   FbIm     09_Q     IYzP                 me75fM6ugJ   kIsH   uKAI   \n",
      "49980   _r21     VpdQ     oZyB        7M47J5GA0pTYIFxg5uy   kIsH   uKAI   \n",
      "49981   Ew1Q     VpdQ     IYzP                 me75fM6ugJ   kIsH   uKAI   \n",
      "49982   kJJ7     VpdQ     zm5i                 me75fM6ugJ   kIsH   uKAI   \n",
      "49983   _r21     09_Q     zm5i                 me75fM6ugJ   kIsH   uKAI   \n",
      "49984   MBhA     VpdQ     IYzP                 NKv3VA1BpP   sBgB   uKAI   \n",
      "49985   15m3     VpdQ     sYC_                 me75fM6ugJ   kIsH   uKAI   \n",
      "49986   rGJy     VpdQ     IYzP                 me75fM6ugJ   kIsH   uKAI   \n",
      "49987   F_Lu     VpdQ     IYzP                 me75fM6ugJ   kIsH   uKAI   \n",
      "49988   QBpP     VpdQ     IYzP                 me75fM6ugJ   kIsH   uKAI   \n",
      "49989   RVjC     VpdQ     IYzP                 me75fM6ugJ   kIsH   uKAI   \n",
      "49990   vm5R     VpdQ     sYC_        7M47J5GA0pTYIFxg5uy   sBgB   uKAI   \n",
      "49991   m_h1     VpdQ     zm5i                 me75fM6ugJ   sBgB   uKAI   \n",
      "49992   rzbc     VpdQ     sYC_                 me75fM6ugJ   kIsH   uKAI   \n",
      "49993   e7QV     VpdQ     IYzP                 me75fM6ugJ   sBgB   uKAI   \n",
      "49994   FbIm  sJzTlal     IYzP                 me75fM6ugJ   sBgB   uKAI   \n",
      "49995   ZKJc     VpdQ     zm5i                 me75fM6ugJ   kIsH   uKAI   \n",
      "49996   RVjC     09_Q     sYC_                 me75fM6ugJ   kIsH   uKAI   \n",
      "49997   k13i     VpdQ     kxE9                 me75fM6ugJ   kIsH   uKAI   \n",
      "49998   mTeA     09_Q     IYzP                 me75fM6ugJ   kIsH   uKAI   \n",
      "49999   vzJD     VpdQ     IYzP                 me75fM6ugJ   kIsH   uKAI   \n",
      "\n",
      "      Var211         Var212 Var218   Var219   Var221      Var223 Var226  \\\n",
      "0       L84s  XfqtO3UdzaXh_   cJvF     FzaX     oslk  jySVZNlOJy   xb3V   \n",
      "1       L84s        NhsEn4L   cJvF     FzaX     oslk  LM8l689qOp   fKCe   \n",
      "2       L84s        UbxQ8lZ   UYBR     FzaX  Al6ZaUT  jySVZNlOJy   Qu4f   \n",
      "3       Mtgm        NhsEn4L   UYBR     FzaX     oslk  LM8l689qOp   FSa2   \n",
      "4       L84s  XfqtO3UdzaXh_   UYBR     FzaX     oslk  LM8l689qOp   FSa2   \n",
      "5       L84s  3vzwTT0wY25GE   UYBR     FzaX     zCkv  LM8l689qOp   Qcbd   \n",
      "6       Mtgm  XfqtO3UdzaXh_   UYBR     FzaX     oslk  LM8l689qOp   FSa2   \n",
      "7       Mtgm        NhsEn4L   UYBR     FzaX     oslk  LM8l689qOp   FSa2   \n",
      "8       L84s  9pUnzWLbztKTo   cJvF     FzaX     zCkv  jySVZNlOJy   PM2D   \n",
      "9       L84s  h0lfDKh52u4GP   UYBR     FzaX     oslk  LM8l689qOp   FSa2   \n",
      "10      L84s  4kVnq_T26xq1p   UYBR     FzaX     zCkv  LM8l689qOp   WqMG   \n",
      "11      L84s        NhsEn4L   UYBR     qxDb     oslk  LM8l689qOp   FSa2   \n",
      "12      L84s  TVE1uh4F_wOi_   cJvF     FzaX     zCkv  LM8l689qOp   me1d   \n",
      "13      L84s        NhsEn4L   cJvF     FzaX     oslk  LM8l689qOp   Qu4f   \n",
      "14      L84s        NhsEn4L   cJvF     FzaX     oslk  LM8l689qOp   PM2D   \n",
      "15      L84s  h0lfDKh52u4GP   cJvF     FzaX     oslk  LM8l689qOp   Qu4f   \n",
      "16      L84s  XfqtO3UdzaXh_   UYBR     FzaX     oslk  jySVZNlOJy   FSa2   \n",
      "17      L84s        QsQAxv5   UYBR  AU8pNoi  QKW8DRm  LM8l689qOp   WqMG   \n",
      "18      L84s        NhsEn4L   UYBR     qxDb     oslk  jySVZNlOJy   FSa2   \n",
      "19      L84s        NhsEn4L   UYBR     FzaX     oslk  LM8l689qOp   5Acm   \n",
      "20      Mtgm        NhsEn4L   UYBR     FzaX     oslk  LM8l689qOp   TNEC   \n",
      "21      L84s        NhsEn4L   UYBR     FzaX     oslk  LM8l689qOp   FSa2   \n",
      "22      L84s        NhsEn4L   UYBR     FzaX     oslk  LM8l689qOp   453m   \n",
      "23      L84s        NhsEn4L   UYBR     FzaX     oslk  jySVZNlOJy   WqMG   \n",
      "24      L84s  h0lfDKh52u4GP   cJvF     FzaX     oslk  jySVZNlOJy   fKCe   \n",
      "25      L84s           CrNX   cJvF     FzaX  d0EEeJi  LM8l689qOp   fKCe   \n",
      "26      Mtgm        NhsEn4L   UYBR     FzaX     oslk  LM8l689qOp   FSa2   \n",
      "27      L84s        NhsEn4L   UYBR     FzaX     oslk  LM8l689qOp   Xa3G   \n",
      "28      L84s  XfqtO3UdzaXh_   cJvF     FzaX     oslk  LM8l689qOp   me1d   \n",
      "29      L84s        NhsEn4L   cJvF     FzaX     oslk  LM8l689qOp   TNEC   \n",
      "...      ...            ...    ...      ...      ...         ...    ...   \n",
      "49970   L84s        NhsEn4L   UYBR     FzaX     oslk  LM8l689qOp   fKCe   \n",
      "49971   Mtgm        NhsEn4L   UYBR     FzaX     oslk  LM8l689qOp   FSa2   \n",
      "49972   L84s  XfqtO3UdzaXh_   UYBR     FzaX     oslk  LM8l689qOp   szEZ   \n",
      "49973   L84s     _5OXC8MSLt   UYBR     FzaX     oslk  LM8l689qOp   Qcbd   \n",
      "49974   L84s        NhsEn4L   cJvF     FzaX     oslk  LM8l689qOp   453m   \n",
      "49975   L84s        NhsEn4L   cJvF     FzaX     oslk  LM8l689qOp   Qu4f   \n",
      "49976   L84s  WsRVNrF85oPU_   cJvF     FzaX     zCkv  LM8l689qOp   kwS7   \n",
      "49977   L84s  4kVnq_T26xq1p   cJvF     FzaX     zCkv  LM8l689qOp   Aoh3   \n",
      "49978   Mtgm        NhsEn4L   cJvF     FzaX     oslk  LM8l689qOp   FSa2   \n",
      "49979   L84s        NhsEn4L   UYBR     FzaX     oslk  LM8l689qOp   xb3V   \n",
      "49980   L84s     _5OXC8MSLt   cJvF     OFWH     oslk  LM8l689qOp   xb3V   \n",
      "49981   L84s        NhsEn4L   cJvF     FzaX     oslk  LM8l689qOp   wX53   \n",
      "49982   L84s        NhsEn4L   cJvF     FzaX     oslk  LM8l689qOp   7P5s   \n",
      "49983   L84s        NhsEn4L   UYBR     FzaX     oslk  LM8l689qOp   xb3V   \n",
      "49984   L84s     I6KzrtUCei   UYBR     FzaX     zCkv  LM8l689qOp   WqMG   \n",
      "49985   L84s        NhsEn4L   cJvF     FzaX     oslk        M_8D   FSa2   \n",
      "49986   L84s        NhsEn4L   cJvF     FzaX     oslk  jySVZNlOJy   Qu4f   \n",
      "49987   L84s        NhsEn4L   UYBR     FzaX     oslk  LM8l689qOp   TNEC   \n",
      "49988   L84s        NhsEn4L   cJvF     FzaX     oslk  LM8l689qOp   7P5s   \n",
      "49989   Mtgm        NhsEn4L   UYBR     FzaX     oslk  LM8l689qOp   FSa2   \n",
      "49990   L84s        NhsEn4L   UYBR     FzaX     oslk  jySVZNlOJy   7P5s   \n",
      "49991   L84s        NhsEn4L   UYBR     FzaX     oslk  LM8l689qOp   WqMG   \n",
      "49992   L84s        NhsEn4L   cJvF     FzaX     oslk  LM8l689qOp   Qcbd   \n",
      "49993   L84s        NhsEn4L   cJvF     FzaX     oslk  LM8l689qOp   fKCe   \n",
      "49994   L84s        NhsEn4L   UYBR  AU8pNoi     oslk  LM8l689qOp   xb3V   \n",
      "49995   L84s        NhsEn4L   cJvF     FzaX     oslk  LM8l689qOp   7FJQ   \n",
      "49996   Mtgm        NhsEn4L   UYBR     FzaX     oslk  LM8l689qOp   FSa2   \n",
      "49997   L84s  XfqtO3UdzaXh_   UYBR     FzaX     oslk  LM8l689qOp   fKCe   \n",
      "49998   Mtgm        NhsEn4L   UYBR     FzaX     oslk  LM8l689qOp   FSa2   \n",
      "49999   L84s        NhsEn4L   cJvF     FzaX     oslk  LM8l689qOp   xb3V   \n",
      "\n",
      "        Var227                  Var228  \n",
      "0         RAYp           F2FyR07IdsN7I  \n",
      "1         RAYp           F2FyR07IdsN7I  \n",
      "2      02N6s8f           ib5G6X1eUxUn6  \n",
      "3         RAYp           F2FyR07IdsN7I  \n",
      "4         RAYp           F2FyR07IdsN7I  \n",
      "5      02N6s8f                 Zy3gnGM  \n",
      "6         RAYp                 55YFVY9  \n",
      "7         RAYp           F2FyR07IdsN7I  \n",
      "8         6fzt  am14IcfM7tWLrUmRT52KtA  \n",
      "9         RAYp                 55YFVY9  \n",
      "10        ZI9m           ib5G6X1eUxUn6  \n",
      "11        RAYp           F2FyR07IdsN7I  \n",
      "12        ZI9m              iyHGyLCEkQ  \n",
      "13        RAYp           F2FyR07IdsN7I  \n",
      "14        RAYp           F2FyR07IdsN7I  \n",
      "15        RAYp                 55YFVY9  \n",
      "16        ZI9m              iyHGyLCEkQ  \n",
      "17        ZI9m           ib5G6X1eUxUn6  \n",
      "18        RAYp           F2FyR07IdsN7I  \n",
      "19        RAYp           F2FyR07IdsN7I  \n",
      "20        RAYp           F2FyR07IdsN7I  \n",
      "21        RAYp           F2FyR07IdsN7I  \n",
      "22        RAYp           F2FyR07IdsN7I  \n",
      "23        RAYp           F2FyR07IdsN7I  \n",
      "24        RAYp           F2FyR07IdsN7I  \n",
      "25     nIGXDli           F2FyR07IdsN7I  \n",
      "26        RAYp           F2FyR07IdsN7I  \n",
      "27        RAYp           F2FyR07IdsN7I  \n",
      "28        RAYp                 55YFVY9  \n",
      "29        RAYp           F2FyR07IdsN7I  \n",
      "...        ...                     ...  \n",
      "49970     RAYp           F2FyR07IdsN7I  \n",
      "49971     RAYp           F2FyR07IdsN7I  \n",
      "49972     RAYp           F2FyR07IdsN7I  \n",
      "49973     ZI9m                    VjDE  \n",
      "49974     RAYp           F2FyR07IdsN7I  \n",
      "49975     RAYp           F2FyR07IdsN7I  \n",
      "49976     ZI9m           ib5G6X1eUxUn6  \n",
      "49977     ZI9m           ib5G6X1eUxUn6  \n",
      "49978     RAYp           F2FyR07IdsN7I  \n",
      "49979     RAYp           F2FyR07IdsN7I  \n",
      "49980     ZI9m                    VjDE  \n",
      "49981     RAYp           F2FyR07IdsN7I  \n",
      "49982     RAYp           F2FyR07IdsN7I  \n",
      "49983     RAYp           F2FyR07IdsN7I  \n",
      "49984     6fzt           xwM2aC7IdeMC0  \n",
      "49985     RAYp                 55YFVY9  \n",
      "49986     RAYp           F2FyR07IdsN7I  \n",
      "49987     RAYp           F2FyR07IdsN7I  \n",
      "49988     RAYp           F2FyR07IdsN7I  \n",
      "49989     RAYp           F2FyR07IdsN7I  \n",
      "49990     RAYp                 55YFVY9  \n",
      "49991     RAYp           F2FyR07IdsN7I  \n",
      "49992     RAYp           F2FyR07IdsN7I  \n",
      "49993     RAYp           F2FyR07IdsN7I  \n",
      "49994     RAYp           F2FyR07IdsN7I  \n",
      "49995     RAYp           F2FyR07IdsN7I  \n",
      "49996     RAYp                 55YFVY9  \n",
      "49997     RAYp     TCU50_Yjmm6GIBZ0lL_  \n",
      "49998     RAYp           F2FyR07IdsN7I  \n",
      "49999     RAYp           F2FyR07IdsN7I  \n",
      "\n",
      "[50000 rows x 19 columns]\n"
     ]
    }
   ],
   "source": [
    "THRESHOLD = 100\n",
    "\n",
    "for i in range(190, 231):\n",
    "    var_name = 'Var'+str(i)\n",
    "    try:\n",
    "        variances = categorical_data.loc[:,var_name]  \n",
    "    except KeyError:\n",
    "        pass\n",
    "    else:\n",
    "        uni_len = len(variances.unique())\n",
    "        if uni_len<2 or uni_len>THRESHOLD:\n",
    "            del categorical_data[var_name]\n",
    "    \n",
    "print(categorical_data)"
   ]
  },
  {
   "cell_type": "code",
   "execution_count": 7,
   "metadata": {},
   "outputs": [
    {
     "name": "stdout",
     "output_type": "stream",
     "text": [
      "(50000, 407)\n"
     ]
    }
   ],
   "source": [
    "categorical_data_onehot = pd.get_dummies(categorical_data)\n",
    "print(categorical_data_onehot.shape)"
   ]
  },
  {
   "cell_type": "code",
   "execution_count": 8,
   "metadata": {
    "collapsed": true
   },
   "outputs": [],
   "source": [
    "categorical_data_onehot.to_csv(\"small_cate_onehot.csv\")"
   ]
  },
  {
   "cell_type": "code",
   "execution_count": 9,
   "metadata": {},
   "outputs": [
    {
     "name": "stdout",
     "output_type": "stream",
     "text": [
      "(50000, 448)\n"
     ]
    }
   ],
   "source": [
    "small_data_clean = np.hstack((numerical_data,categorical_data_onehot))\n",
    "print(small_data_clean.shape)"
   ]
  },
  {
   "cell_type": "code",
   "execution_count": 14,
   "metadata": {},
   "outputs": [],
   "source": [
    "small = pd.DataFrame(small_data_clean[:,20])"
   ]
  },
  {
   "cell_type": "code",
   "execution_count": 15,
   "metadata": {},
   "outputs": [],
   "source": [
    "small.to_csv(\"small_clean.csv\")"
   ]
  },
  {
   "cell_type": "code",
   "execution_count": null,
   "metadata": {
    "collapsed": true
   },
   "outputs": [],
   "source": []
  }
 ],
 "metadata": {
  "kernelspec": {
   "display_name": "Python 3",
   "language": "python",
   "name": "python3"
  },
  "language_info": {
   "codemirror_mode": {
    "name": "ipython",
    "version": 3
   },
   "file_extension": ".py",
   "mimetype": "text/x-python",
   "name": "python",
   "nbconvert_exporter": "python",
   "pygments_lexer": "ipython3",
   "version": "3.6.2"
  }
 },
 "nbformat": 4,
 "nbformat_minor": 2
}
