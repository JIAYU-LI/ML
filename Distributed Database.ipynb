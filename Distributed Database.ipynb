{
 "cells": [
  {
   "cell_type": "markdown",
   "metadata": {},
   "source": [
    "# Part 1: Introduction"
   ]
  },
  {
   "cell_type": "markdown",
   "metadata": {},
   "source": [
    "This lab is about a distributed in-memory key-value database. We created a Python-based framework which provides a simple dictionary-based database server instance. The framework allows reading and writing key-value pairs from/to a database. In addition, the framework provides an infrastructure to launch/stop database server instances on several nodes to run a database in a distributed manner. You will learn about the following concepts:\n",
    "\n",
    "    client-server application model,\n",
    "    sharding & load balancing,\n",
    "    replication & fault-tolerance.\n",
    "\n",
    "This lab is mostly performed in a terminal. Open your terminal application to begin."
   ]
  },
  {
   "cell_type": "markdown",
   "metadata": {},
   "source": [
    "# Part 2. Running experiments"
   ]
  },
  {
   "cell_type": "markdown",
   "metadata": {},
   "source": [
    "Framework installation\n",
    "Copy the directory with the framework to your DICE home:\n",
    "\n",
    "cp -r /disk/scratch/EXC_lab3 $HOME/\n",
    "\n",
    "Prepare shell environment to work with the framework:\n",
    "\n",
    "source $HOME/EXC_lab3/shrc\n",
    "\n",
    "Note: preparing shell is required every time when you open a new terminal.\n",
    "    "
   ]
  },
  {
   "cell_type": "markdown",
   "metadata": {},
   "source": [
    "Exchanging messages\n",
    "\n",
    "In order to run a database server instance locally, use the following command:\n",
    "\n",
    "run_db\n",
    "\n",
    "In the output, you should see that a server started successfully, and it waits for incoming messages:\n",
    "\n",
    "Starting up a server. Listening on port <your_port_number>\n",
    "Waiting for a message to arrive...\n",
    "\n",
    "If you want to stop the server, press Ctrl+C."
   ]
  },
  {
   "cell_type": "markdown",
   "metadata": {},
   "source": [
    "To send a message to a database server, you should use the tool send_message. This tool supports the following options:\n",
    "\n",
    "    -a - address of a node to send message to (both IP and full hostname can be used),\n",
    "    -t - a type of a message (only READ and UPDATE messages are supported),\n",
    "    -m - a message: a key or a key-value pair used for READ and UPDATE respectively,\n",
    "    -l - enables load balancing (will be explained further).\n",
    "\n",
    "Note: a colon is used as a delimiter between key and value in a message for UPDATE request.\n",
    "\n",
    "Let's try to send an update message to a local database server. When a database receives an update message, it allocates the value to an internal dictionary. If the allocation was successful, the database sends an acknowledgement message to the requester. With a database server running in the first terminal, open another terminal on the same node as the first terminal and use the following commands:"
   ]
  },
  {
   "cell_type": "code",
   "execution_count": null,
   "metadata": {
    "collapsed": true
   },
   "outputs": [],
   "source": [
    "source $HOME/EXC_lab3/shrc\n",
    "send_message -a $LOCAL_HOSTNAME -t UPDATE -m \"12345:Hello World\""
   ]
  },
  {
   "cell_type": "markdown",
   "metadata": {},
   "source": [
    "The last command requests the value Hello World to be added to the database running on host $LOCAL_HOSTNAME with the key 12345. You can check what is the value of $LOCAL_HOSTNAME with:"
   ]
  },
  {
   "cell_type": "code",
   "execution_count": null,
   "metadata": {
    "collapsed": true
   },
   "outputs": [],
   "source": [
    "echo $LOCAL_HOSTNAME"
   ]
  },
  {
   "cell_type": "markdown",
   "metadata": {},
   "source": [
    "After the execution of the second command, send_message should report that the key-value pair was successfully added. You should see the following output (note: that node addresses and ports can be different):\n",
    "\n",
    "Sending Message: Type: UPDATE, Addr: 129.215.18.53, MessageBody: 12345:Hello World\n",
    "Response Message: Type: UPDATE_ACK, Addr: 129.215.18.53, MessageBody: Success\n"
   ]
  },
  {
   "cell_type": "markdown",
   "metadata": {},
   "source": [
    "The database server (in the first terminal) also should report the key-value pair was added:\n",
    "\n",
    "Add an entry to the database: key: 12345, value: Hello World\n"
   ]
  },
  {
   "cell_type": "markdown",
   "metadata": {},
   "source": [
    "Now, let's retrieve data from the database. When a read message is received by a database and the key is present, the database sends back a read-reply message containing a value for the requested key. To observe this behaviour, type the following command in the second terminal:"
   ]
  },
  {
   "cell_type": "code",
   "execution_count": null,
   "metadata": {
    "collapsed": true
   },
   "outputs": [],
   "source": [
    "send_message -a $LOCAL_HOSTNAME -t READ -m \"12345\"\n"
   ]
  },
  {
   "cell_type": "markdown",
   "metadata": {},
   "source": [
    "This command tries to read the values with key 12345 on node $LOCAL_HOSTNAME. As we've already added the value for this key, send_message should report receiving READ_REPLY message with the value:\n",
    "\n",
    "Response Message: Type: READ_REPLY, Addr: 129.215.18.53, MessageBody: Hello World\n"
   ]
  },
  {
   "cell_type": "markdown",
   "metadata": {},
   "source": [
    "# Running a database on multiple nodes"
   ]
  },
  {
   "cell_type": "markdown",
   "metadata": {},
   "source": [
    "In the previous section, you were running a database instance on one node only. This section explains how to launch a database server instances on multiple nodes.\n",
    "\n",
    "The list of the nodes to be used by the database is specified in $HOME/EXC_lab3/settings.cfg in Node_hostnames section. By default, the database runs on 12 nodes scutter{01..12}. You can see this list with the following command:"
   ]
  },
  {
   "cell_type": "code",
   "execution_count": null,
   "metadata": {
    "collapsed": true
   },
   "outputs": [],
   "source": [
    "cat $HOME/EXC_lab3/settings.cfg"
   ]
  },
  {
   "cell_type": "markdown",
   "metadata": {},
   "source": [
    "In order to launch database instances on all the nodes type the following commands:"
   ]
  },
  {
   "cell_type": "code",
   "execution_count": null,
   "metadata": {
    "collapsed": true
   },
   "outputs": [],
   "source": [
    "start_distributed_db"
   ]
  },
  {
   "cell_type": "markdown",
   "metadata": {},
   "source": [
    "The output of all database instances is redirected to log files located in $HOME/EXC_lab3/logs. The instance creates a log file with the name of its host (a node an instance is running on). You can track the changes in all log files with the following command:"
   ]
  },
  {
   "cell_type": "code",
   "execution_count": null,
   "metadata": {
    "collapsed": true
   },
   "outputs": [],
   "source": [
    "tail -f $HOME/EXC_lab3/logs/<hostname>\n"
   ]
  },
  {
   "cell_type": "markdown",
   "metadata": {},
   "source": [
    "or in order to track all files at the same time:"
   ]
  },
  {
   "cell_type": "code",
   "execution_count": null,
   "metadata": {
    "collapsed": true
   },
   "outputs": [],
   "source": [
    "tail -f $HOME/EXC_lab3/logs/*"
   ]
  },
  {
   "cell_type": "markdown",
   "metadata": {},
   "source": [
    "Press Ctrl+C to stop tracking changes on log files.\n",
    "\n",
    "Exercise: Try sending requests to database server instances running on different nodes. For example, you can use the following commands:\n",
    "\n",
    "send_message -a scutter03 -t UPDATE -m \"12345:Hello World\"\n",
    "send_message -a scutter05 -t UPDATE -m \"77777:This is a test line\"\n",
    "send_message -a scutter03 -t READ   -m \"12345\"\n",
    "send_message -a scutter05 -t READ   -m \"77777\"\n",
    "send_message -a scutter05 -t READ   -m \"77776\"\n",
    "send_message -a scutter04 -t READ   -m \"77777\"\n"
   ]
  },
  {
   "cell_type": "markdown",
   "metadata": {},
   "source": [
    "You should see that the server received the READ message, searched for a key in the internal database and sent the response to the client. What is the result of the last read commands? In order to stop database instances on all nodes, you can type the following command:"
   ]
  },
  {
   "cell_type": "code",
   "execution_count": null,
   "metadata": {
    "collapsed": true
   },
   "outputs": [],
   "source": [
    "stop_distributed_db"
   ]
  },
  {
   "cell_type": "markdown",
   "metadata": {},
   "source": [
    "Distributed database and load balancing\n",
    "\n",
    "In the modern datacenter environment, one node usually cannot sustain a high rate of arriving requests and/or is not capable of storing the whole dataset. Therefore, the load should be spread across multiple nodes by making each node responsible for only a part of the key space. A part of the key space usually referred as a shard. Consequently, sharding is a method of partitioning the data across the nodes.\n",
    "\n",
    "One way to categorize sharding is deterministic versus dynamic. With deterministic sharding, a client sets which node should process a message. Deterministically sharded databases use a sharding function key -> partition_key -> node_id to locate data. In dynamic sharding, a separate locator service tracks the partitions amongst the nodes.\n",
    "\n",
    "In this lab, an deterministic sharding is used. We will consider two with sharding functions:\n",
    "\n",
    "    simple: node_id(key) = key % <number_of_nodes>,\n",
    "    md5-based: node_id(key) = md5(key) % <number_of_nodes>\n",
    "\n",
    "The hashing function is specified in $HOME/EXC_lab3/settings.cfg in the section General_parameters:"
   ]
  },
  {
   "cell_type": "code",
   "execution_count": null,
   "metadata": {
    "collapsed": true
   },
   "outputs": [],
   "source": [
    "hashing_function = None\n"
   ]
  },
  {
   "cell_type": "markdown",
   "metadata": {},
   "source": [
    "By default, a simple sharding function is used. You can enable md5-based hashing by changing the $HOME/EXC_lab3/settings.cfg:\n",
    "\n",
    "hashing_function = md5\n"
   ]
  },
  {
   "cell_type": "markdown",
   "metadata": {},
   "source": [
    "To enable a load balancer on the client side, you should use send_message with -l option. For example, you can use the following command:"
   ]
  },
  {
   "cell_type": "code",
   "execution_count": null,
   "metadata": {
    "collapsed": true
   },
   "outputs": [],
   "source": [
    "send_message -l -t UPDATE -m \"12345:Hello World\""
   ]
  },
  {
   "cell_type": "markdown",
   "metadata": {},
   "source": [
    "Different sharding methods affect load balancing. For example, the simple sharding function might provide bad performance when a database experiences a strided key access pattern. A strided key access pattern with stride M means a stream of accesses where every Mth key block is touched.\n",
    "\n",
    "Exercise: Study how different sharding methods affect load balancing under a strided key access pattern. First, launch a distributed database if you have not done so. To generate a stream of accesses with stride 3, you can use the following command:"
   ]
  },
  {
   "cell_type": "code",
   "execution_count": null,
   "metadata": {
    "collapsed": true
   },
   "outputs": [],
   "source": [
    "STRIDE=3; for key in $(seq $(seq -w 1 $STRIDE | shuf -n 1) $STRIDE 1000); do send_message -l -t UPDATE -m \"${key}:$(gen_random_string 20)\"; done"
   ]
  },
  {
   "cell_type": "markdown",
   "metadata": {},
   "source": [
    "Note: gen_random_string generates a random string; usage: gen_random_string ** Is load balancing fair with other strides, e.g. 10 and 12? Is there the same behaviour with md5-based sharding method? Explain your results. "
   ]
  },
  {
   "cell_type": "markdown",
   "metadata": {},
   "source": [
    "# Fault tolerance"
   ]
  },
  {
   "cell_type": "markdown",
   "metadata": {},
   "source": [
    "To ensure that a client does not experience an interruption in service when hardware or networks fail, a fault-tolerant databases are required. One way to achieve fault tolerance is to rely on replication. With replication, every shard resides on several nodes. Thus, in case of a node failure, the data can be requested from other nodes.\n",
    "\n",
    "In this lab, a simple replication policy of copying the data to n adjacent nodes is used. For example, if replication degree is 3 and there are 5 nodes node{00..04} are used, the data on node node00 is also replicated to node01 and node02. Similarly, node00 and node01 contain a copy of the data which primarily resides on node04.\n",
    "\n",
    "To observe the need for fault tolerance, you can see what happens if one instance of database server fails. You can shut down a database server instance on a node with the command:"
   ]
  },
  {
   "cell_type": "code",
   "execution_count": null,
   "metadata": {
    "collapsed": true
   },
   "outputs": [],
   "source": [
    "stop_distributed_db -a <hostname>\n",
    "send_message -a <hostname> -t UPDATE -m \"12345:Hello World\" # to see a problem"
   ]
  },
  {
   "cell_type": "markdown",
   "metadata": {},
   "source": [
    "To enable support for replication in a distributed database, you should change the message processing handler and the degree of replication in $HOME/EXC_lab3/settings.cfg in section General_parameters as shown below:"
   ]
  },
  {
   "cell_type": "code",
   "execution_count": null,
   "metadata": {
    "collapsed": true
   },
   "outputs": [],
   "source": [
    "number_replicas = 3\n",
    "message_handler = fault_tolerant_message_handler"
   ]
  },
  {
   "cell_type": "markdown",
   "metadata": {},
   "source": [
    "Exercise: Emulate a failure of a node(s). How many nodes are required to be online for successful updates? Note: you can see how the database process messages in $HOME/EXC_lab3/src/lib/message_handlers.py"
   ]
  },
  {
   "cell_type": "markdown",
   "metadata": {},
   "source": [
    "# Troubleshooting"
   ]
  },
  {
   "cell_type": "markdown",
   "metadata": {},
   "source": [
    "In case you get the following error when you try launching a database instance"
   ]
  },
  {
   "cell_type": "code",
   "execution_count": null,
   "metadata": {
    "collapsed": true
   },
   "outputs": [],
   "source": [
    "ERROR: [Errno 98] Address already in use. Seems like a database is already running on this node. Run stop_distributed_db to stop a database on all nodes.\n"
   ]
  },
  {
   "cell_type": "markdown",
   "metadata": {},
   "source": [
    "and stopping the database does not help, you can force a database server instance to shut down with the following commands:"
   ]
  },
  {
   "cell_type": "code",
   "execution_count": null,
   "metadata": {
    "collapsed": true
   },
   "outputs": [],
   "source": [
    "kill_local_db # on the local node only\n",
    "kill_db_on_all_nodes # on all nodes listed in settings.cfg"
   ]
  }
 ],
 "metadata": {
  "kernelspec": {
   "display_name": "Python 3",
   "language": "python",
   "name": "python3"
  },
  "language_info": {
   "codemirror_mode": {
    "name": "ipython",
    "version": 3
   },
   "file_extension": ".py",
   "mimetype": "text/x-python",
   "name": "python",
   "nbconvert_exporter": "python",
   "pygments_lexer": "ipython3",
   "version": "3.6.2"
  }
 },
 "nbformat": 4,
 "nbformat_minor": 2
}
