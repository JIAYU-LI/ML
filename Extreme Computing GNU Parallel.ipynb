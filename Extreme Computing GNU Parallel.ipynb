{
 "cells": [
  {
   "cell_type": "markdown",
   "metadata": {},
   "source": [
    "# Extreme Computing GNU Parallel"
   ]
  },
  {
   "cell_type": "markdown",
   "metadata": {},
   "source": [
    "# Part 1: Preliminaries"
   ]
  },
  {
   "cell_type": "markdown",
   "metadata": {},
   "source": [
    "Disable citation message\n",
    "\n",
    "Cite tools used a research paper, like the GNU parallel paper. Now that we've gotten that out of the way, we can turn off the nagging message every time it runs."
   ]
  },
  {
   "cell_type": "code",
   "execution_count": null,
   "metadata": {
    "collapsed": true
   },
   "outputs": [],
   "source": [
    "mkdir -p ~/.parallel && touch ~/.parallel/will-cite"
   ]
  },
  {
   "cell_type": "markdown",
   "metadata": {},
   "source": [
    "Files are on local disk\n",
    "\n",
    "The data and some code are in /disk/scratch/exc. To make things shorter, we'll define"
   ]
  },
  {
   "cell_type": "code",
   "execution_count": null,
   "metadata": {
    "collapsed": true
   },
   "outputs": [],
   "source": [
    "e=/disk/scratch/exc\n",
    "#and use $e to refer to this directory. "
   ]
  },
  {
   "cell_type": "markdown",
   "metadata": {},
   "source": [
    "Tokenizing Text\n",
    "\n",
    "In text processing, it's often useful to split punctuation off from words. For example, we want to convert \"As the economy improves, rates can only rise.\" to \"As the economy improves , rates can only rise .\" by splitting off the comma and period. Don't worry about this for Assignment 1; we already did it for you.\n",
    "\n",
    "Look at the news data"
   ]
  },
  {
   "cell_type": "code",
   "execution_count": null,
   "metadata": {
    "collapsed": true
   },
   "outputs": [],
   "source": [
    "head $e/news"
   ]
  },
  {
   "cell_type": "markdown",
   "metadata": {},
   "source": [
    "and look at the tokenized version\n",
    "\n",
    "head $e/news |$e/tokenizer.perl\n",
    "\n",
    "You can try to tokenize the whole corpus, which will be slow, so you will want to hit Ctrl+C to stop this command:"
   ]
  },
  {
   "cell_type": "code",
   "execution_count": null,
   "metadata": {
    "collapsed": true
   },
   "outputs": [],
   "source": [
    "pv $e/news |$e/tokenizer.perl >/dev/null"
   ]
  },
  {
   "cell_type": "markdown",
   "metadata": {},
   "source": [
    "A brief note on an awesome feature of pv: if you forgot to add it to your pipeline, you can still watch processes. Run this command, but read on while it's running. "
   ]
  },
  {
   "cell_type": "code",
   "execution_count": null,
   "metadata": {
    "collapsed": true
   },
   "outputs": [],
   "source": [
    "$e/tokenizer.perl <$e/news >/dev/null"
   ]
  },
  {
   "cell_type": "markdown",
   "metadata": {},
   "source": [
    "Open up another terminal, log into the same machine using ssh YYYYY (and going through student.ssh if you're outside Informatics). Run this command to find the process ID of the tokenizer:"
   ]
  },
  {
   "cell_type": "code",
   "execution_count": null,
   "metadata": {
    "collapsed": true
   },
   "outputs": [],
   "source": [
    "pgrep -u $USER perl"
   ]
  },
  {
   "cell_type": "markdown",
   "metadata": {},
   "source": [
    "That should print exactly one integer, presuming you're only running the tokenizer at the time. This is the process ID of the tokenizer process. Tell pv to attach to that process (substitute the correct ID):"
   ]
  },
  {
   "cell_type": "code",
   "execution_count": null,
   "metadata": {
    "collapsed": true
   },
   "outputs": [],
   "source": [
    "/disk/scratch/exc/pv -d PROCESS_ID_GOES_HERE"
   ]
  },
  {
   "cell_type": "markdown",
   "metadata": {},
   "source": [
    "This runs a newer version of pv. Now you have a progress bar for the files a process has open. It will take a while to finish so, when you get bored, stop both of them with Ctrl+C. To make things faster, we'll try GNU parallel. First, a sanity check: GNU parallel produces the output we expect. "
   ]
  },
  {
   "cell_type": "code",
   "execution_count": null,
   "metadata": {
    "collapsed": true
   },
   "outputs": [],
   "source": [
    "head $e/news |parallel --pipe $e/tokenizer.perl"
   ]
  },
  {
   "cell_type": "markdown",
   "metadata": {},
   "source": [
    "It does (on larger data it might reorder some of the batches, but we can pass -k to strictly preserve order). Now try it on the whole corpus"
   ]
  },
  {
   "cell_type": "code",
   "execution_count": null,
   "metadata": {
    "collapsed": true
   },
   "outputs": [],
   "source": [
    "pv $e/news |parallel --pipe $e/tokenizer.perl >/dev/null"
   ]
  },
  {
   "cell_type": "markdown",
   "metadata": {},
   "source": [
    "It should be faster. The number of cores on each machine varies and other students might be running on the same machine. GNU parallel also lets you specify a block size, which is the amount of text given to each tokenizer process. This is a rough guide, since it is splitting at the line level. The default is 1 MB. Let's raise it to 5 MB. "
   ]
  },
  {
   "cell_type": "code",
   "execution_count": null,
   "metadata": {
    "collapsed": true
   },
   "outputs": [],
   "source": [
    "pv $e/news |parallel --block 5M --pipe $e/tokenizer.perl >/dev/null"
   ]
  },
  {
   "cell_type": "markdown",
   "metadata": {},
   "source": [
    "Notice how pv updates the bar less often and the amounts it displays (on the left) are generally multiples of 5 MB. To make things more exciting, we'll run the tokenizer on more machines. Visit the servers page and pick another machine. Substitute ZZZZZ with the name of the machine you picked."
   ]
  },
  {
   "cell_type": "code",
   "execution_count": null,
   "metadata": {
    "collapsed": true
   },
   "outputs": [],
   "source": [
    "pv $e/news |parallel --pipe $e/tokenizer.perl --sshlogin ZZZZZ >/dev/null"
   ]
  },
  {
   "cell_type": "markdown",
   "metadata": {},
   "source": [
    "That command typically runs slower because it's only running on the remote machine (unless the remote machine is much faster). Remember to tell parallel that it can also run locally. You do this by specifying : as one of the hosts."
   ]
  },
  {
   "cell_type": "code",
   "execution_count": null,
   "metadata": {
    "collapsed": true
   },
   "outputs": [],
   "source": [
    "pv $e/news |parallel --pipe $e/tokenizer.perl --sshlogin ZZZZZ,: >/dev/null"
   ]
  },
  {
   "cell_type": "markdown",
   "metadata": {},
   "source": [
    "# Benchmarking Memory"
   ]
  },
  {
   "cell_type": "markdown",
   "metadata": {},
   "source": [
    "In the lectures, we saw that machines have different levels of cache. I wrote a benchmarking program for you to test this. Those of you who read C++ can look at $e/benchmark.cc. It has been compiled to $e/benchmark. The program benchmarks the scenario where we have an array and need to read from it at random offsets. If the offsets are sorted first, then access will be more sequential. Let's start by creating an array of size 10 and randomly reading from it 10000 times."
   ]
  },
  {
   "cell_type": "code",
   "execution_count": null,
   "metadata": {
    "collapsed": true
   },
   "outputs": [],
   "source": [
    "$e/benchmark 10 10000 random"
   ]
  },
  {
   "cell_type": "markdown",
   "metadata": {},
   "source": [
    "The program prints one line: the arguments you gave it and the average cost of each read (in seconds). It can also sort the offsets before running the benchmark (note: sorting is not included in the time calcuation, though that might be interesting too!). "
   ]
  },
  {
   "cell_type": "code",
   "execution_count": null,
   "metadata": {
    "collapsed": true
   },
   "outputs": [],
   "source": [
    "$e/benchmark 10 10000 sort"
   ]
  },
  {
   "cell_type": "markdown",
   "metadata": {},
   "source": [
    "Use GNU parallel to sweep over array sizes. As we saw in the demo lecture, {} is a stand-in for an argument, while ::: says what arguments to try. "
   ]
  },
  {
   "cell_type": "code",
   "execution_count": null,
   "metadata": {
    "collapsed": true
   },
   "outputs": [],
   "source": [
    "parallel $e/benchmark {} 10000 random ::: 1 10 100 1000 10000 100000 1000000 10000000 100000000\n"
   ]
  },
  {
   "cell_type": "markdown",
   "metadata": {},
   "source": [
    "Try it a few times and you might notice that the order of the lines is non-deterministic. Run with -k to keep output lines in order."
   ]
  },
  {
   "cell_type": "code",
   "execution_count": null,
   "metadata": {
    "collapsed": true
   },
   "outputs": [],
   "source": [
    "parallel -k $e/benchmark {} 10000 random ::: 1 10 100 1000 10000 100000 1000000 10000000 100000000\n"
   ]
  },
  {
   "cell_type": "markdown",
   "metadata": {},
   "source": [
    "Try a bunch of sizes, but keep in mind that I hard-coded a cap of 2 GB to prevent you from thrashing the machine too much. We can also have GNU parallel sweep over several parameters. "
   ]
  },
  {
   "cell_type": "code",
   "execution_count": null,
   "metadata": {
    "collapsed": true
   },
   "outputs": [],
   "source": [
    "parallel -k $e/benchmark {} ::: 1 10 100 1000 10000 100000 1000000 10000000 100000000 ::: 10000 1000000 ::: sort random"
   ]
  },
  {
   "cell_type": "markdown",
   "metadata": {},
   "source": [
    "There's a lot of noise in these measurements because other students are running etc. Let's run each experiment three times. But the experiment number is not an argument to the benchmark program. Fortunately, GNU parallel lets us specify which part of the arguments to use. For example {2} refers to the second set of parameters."
   ]
  },
  {
   "cell_type": "code",
   "execution_count": null,
   "metadata": {
    "collapsed": true
   },
   "outputs": [],
   "source": [
    "parallel -k $e/benchmark {2} 10000 random ::: 1 2 3 ::: 1 10 100 1000 10000 100000 1000000 10000000 100000000\n"
   ]
  },
  {
   "cell_type": "markdown",
   "metadata": {},
   "source": [
    "You might notice that I put the experiment number as the outermost loop. That way, there's less chance than random fluctuation will impact all of the samples for a given condition. Write a program in your favorite programming language to postprocess the output and take the minimum time from each run.\n",
    "\n",
    "Let's do a sweep from 1MB to 64MB. The seq program generates numeric sequences"
   ]
  },
  {
   "cell_type": "code",
   "execution_count": null,
   "metadata": {
    "collapsed": true
   },
   "outputs": [],
   "source": [
    "seq 1000000 1000000 64000000"
   ]
  },
  {
   "cell_type": "markdown",
   "metadata": {},
   "source": [
    "You're also free to use multiples of 1048576 if that suits you. We can tell GNU parallel to sweep over the sequence. "
   ]
  },
  {
   "cell_type": "code",
   "execution_count": null,
   "metadata": {
    "collapsed": true
   },
   "outputs": [],
   "source": [
    "parallel -k $e/benchmark {2} 10000 random ::: 1 2 3 ::: $(seq 1000000 1000000 64000000)"
   ]
  },
  {
   "cell_type": "markdown",
   "metadata": {},
   "source": [
    "Take the data and pass it through your program that takes the minimum time under each condition. Plot the relationship between size and average time in your favorite plotting program. It may still be noisy because other students are using the same machine. Do you find that access time increases at some point? Ask the kernel about the CPUs. "
   ]
  },
  {
   "cell_type": "code",
   "execution_count": null,
   "metadata": {
    "collapsed": true
   },
   "outputs": [],
   "source": [
    "cat /proc/cpuinfo"
   ]
  },
  {
   "cell_type": "markdown",
   "metadata": {},
   "source": [
    "Does the cache size: field correspond to the bump in your graph? "
   ]
  }
 ],
 "metadata": {
  "kernelspec": {
   "display_name": "Python 3",
   "language": "python",
   "name": "python3"
  },
  "language_info": {
   "codemirror_mode": {
    "name": "ipython",
    "version": 3
   },
   "file_extension": ".py",
   "mimetype": "text/x-python",
   "name": "python",
   "nbconvert_exporter": "python",
   "pygments_lexer": "ipython3",
   "version": "3.6.2"
  }
 },
 "nbformat": 4,
 "nbformat_minor": 2
}
