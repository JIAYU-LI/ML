{
 "cells": [
  {
   "cell_type": "code",
   "execution_count": 1,
   "metadata": {},
   "outputs": [
    {
     "name": "stdout",
     "output_type": "stream",
     "text": [
      "[[ 0.5     0.4656  0.4     0.272   0.0504]\n",
      " [ 0.5344  0.5     0.4656  0.4     0.272 ]\n",
      " [ 0.6     0.5344  0.5     0.4656  0.4   ]\n",
      " [ 0.728   0.6     0.5344  0.5     0.4656]\n",
      " [ 0.9496  0.728   0.6     0.5344  0.5   ]]\n"
     ]
    },
    {
     "data": {
      "text/plain": [
       "array([[ 0.5   ,  0.5344,  0.6   ,  0.728 ,  0.9496],\n",
       "       [ 0.4656,  0.5   ,  0.5344,  0.6   ,  0.728 ],\n",
       "       [ 0.4   ,  0.4656,  0.5   ,  0.5344,  0.6   ],\n",
       "       [ 0.272 ,  0.4   ,  0.4656,  0.5   ,  0.5344],\n",
       "       [ 0.0504,  0.272 ,  0.4   ,  0.4656,  0.5   ]])"
      ]
     },
     "execution_count": 1,
     "metadata": {},
     "output_type": "execute_result"
    }
   ],
   "source": [
    "import numpy as np\n",
    "p_1_2 = np.ones((5,5)) \n",
    "for i in range (1, 6):#s1\n",
    "    for j in range (1, 6): #s2\n",
    "        p_1_2[i-1, j-1] = 0.0052*((i-j)**3) + 0.0292*(i-j)+0.5\n",
    "print(p_1_2)\n",
    "p_0=1-p_1_2\n",
    "p_0"
   ]
  },
  {
   "cell_type": "code",
   "execution_count": 2,
   "metadata": {},
   "outputs": [
    {
     "name": "stdout",
     "output_type": "stream",
     "text": [
      "[[ 0.5     0.5344  0.6     0.728   0.9496]\n",
      " [ 0.4656  0.5     0.5344  0.6     0.728 ]\n",
      " [ 0.4     0.4656  0.5     0.5344  0.6   ]\n",
      " [ 0.272   0.4     0.4656  0.5     0.5344]\n",
      " [ 0.0504  0.272   0.4     0.4656  0.5   ]]\n"
     ]
    }
   ],
   "source": [
    "import numpy as np\n",
    "p_3_1 = np.zeros((5,5)) \n",
    "for i in range (1, 6): #s1\n",
    "    for j in range (1, 6):#s3\n",
    "        p_3_1[i-1, j-1] = 0.0052*((j-i)**3) + 0.0292*(j-i)+0.5\n",
    "print(p_3_1)\n"
   ]
  },
  {
   "cell_type": "code",
   "execution_count": 3,
   "metadata": {},
   "outputs": [
    {
     "name": "stdout",
     "output_type": "stream",
     "text": [
      "[[ 0.5     0.5344  0.6     0.728   0.9496]\n",
      " [ 0.4656  0.5     0.5344  0.6     0.728 ]\n",
      " [ 0.4     0.4656  0.5     0.5344  0.6   ]\n",
      " [ 0.272   0.4     0.4656  0.5     0.5344]\n",
      " [ 0.0504  0.272   0.4     0.4656  0.5   ]]\n"
     ]
    }
   ],
   "source": [
    "import numpy as np\n",
    "p_2_3 = np.zeros((5,5)) \n",
    "for i in range (1, 6): #s2\n",
    "    for j in range (1, 6):#s3\n",
    "        p_2_3[i-1, j-1] = 0.0052*((i-j)**3) + 0.0292*(i-j)+0.5\n",
    "print(1-p_2_3)"
   ]
  },
  {
   "cell_type": "code",
   "execution_count": 4,
   "metadata": {},
   "outputs": [
    {
     "name": "stdout",
     "output_type": "stream",
     "text": [
      "[[ 0.09729325  0.26673664  0.36353519  0.41479123  0.44760707]\n",
      " [ 0.08008064  0.2115047   0.2865536   0.326506    0.35264054]\n",
      " [ 0.07040719  0.1800816   0.24265149  0.2760736   0.29830464]\n",
      " [ 0.06417523  0.162546    0.2185856   0.24845714  0.26832371]\n",
      " [ 0.05728707  0.14897654  0.20111264  0.22861971  0.24642209]]\n"
     ]
    }
   ],
   "source": [
    "P_1 = np.array([[0.01, 0.01, 0.08, 0.2, 0.7]])\n",
    "s_1 = np.zeros((5,5)) \n",
    "for a in range (5): #s2\n",
    "    for b in range(5): #s3\n",
    "        med = 0\n",
    "        for j in range (5):#s1\n",
    "            med += P_1[0, j]*p_1_2[j, a]*p_3_1[j, b]\n",
    "        s_1[a, b]=med\n",
    "print(s_1)"
   ]
  },
  {
   "cell_type": "code",
   "execution_count": 5,
   "metadata": {},
   "outputs": [
    {
     "name": "stdout",
     "output_type": "stream",
     "text": [
      "[[ 0.04864663  0.14254406  0.21812112  0.30196802  0.42504768]\n",
      " [ 0.03728555  0.10575235  0.15313424  0.1959036   0.25672231]\n",
      " [ 0.02816288  0.08384599  0.12132575  0.14753373  0.17898278]\n",
      " [ 0.01745566  0.0650184   0.10177346  0.12422857  0.14339219]\n",
      " [ 0.00288727  0.04052162  0.08044506  0.10644534  0.12321104]]\n"
     ]
    }
   ],
   "source": [
    "phi_1 = (s_1)*(1-p_2_3)\n",
    "\n",
    "print(phi_1)"
   ]
  },
  {
   "cell_type": "code",
   "execution_count": 35,
   "metadata": {},
   "outputs": [
    {
     "name": "stdout",
     "output_type": "stream",
     "text": [
      "[[ 0.01037748  0.05381518  0.09350372  0.11994523  0.14131865]]\n",
      "[[ 0.07343317  0.38080733  0.66165168  0.84875726  1.        ]]\n"
     ]
    }
   ],
   "source": [
    "P_2 = np.array([[0.02, 0.02, 0.06, 0.3, 0.6]])\n",
    "psi_2 = np.zeros((1,5)) \n",
    "\n",
    "for i in range(5): #s3\n",
    "    med1 = 0\n",
    "    for j in range (5):#s2\n",
    "        med1 += P_2[0, j]*phi_1[j, i]\n",
    "    psi_2[0, i]=med1\n",
    "print(psi_2) \n",
    "print(psi_2/0.14131865)"
   ]
  },
  {
   "cell_type": "code",
   "execution_count": 66,
   "metadata": {},
   "outputs": [
    {
     "name": "stdout",
     "output_type": "stream",
     "text": [
      "[ 0.0020755   0.01076304  0.01870074  0.02398905  0.02826373]\n",
      "[-0.1979245  -0.18923696 -0.18129926 -0.17601095 -0.17173627]\n"
     ]
    },
    {
     "data": {
      "image/png": "[encoded data removed]",
      "text/plain": [
       "<matplotlib.figure.Figure at 0x7f32e56d2ef0>"
      ]
     },
     "metadata": {},
     "output_type": "display_data"
    }
   ],
   "source": [
    "import matplotlib.pyplot as plt\n",
    "\n",
    "P_3 = np.array([0.2, 0.2, 0.2, 0.2, 0.2])\n",
    "psi_2=np.reshape(psi_2, (5,))\n",
    "P_s_3 = P_3*psi_2 #p(s3|r)\n",
    "print(P_s_3)\n",
    "different = P_s_3 - P_3\n",
    "print(different)\n",
    "#plt.xlim(1, 5) #s3:1-5\n",
    "plt.plot(P_s_3, 'ro', label='Posterior') #p(s3|r)\n",
    "plt.plot(P_3, 'bo', label='Prior') #p(s3)\n",
    "plt.legend()\n",
    "plt.savefig('/afs/inf.ed.ac.uk/user/s17/s1717961/Desktop/diff_plot')\n",
    "plt.show()\n"
   ]
  },
  {
   "cell_type": "code",
   "execution_count": 123,
   "metadata": {},
   "outputs": [
    {
     "data": {
      "text/plain": [
       "array([[ 0.004,  0.004,  0.004,  0.004,  0.004],\n",
       "       [ 0.004,  0.004,  0.004,  0.004,  0.004],\n",
       "       [ 0.012,  0.012,  0.012,  0.012,  0.012],\n",
       "       [ 0.06 ,  0.06 ,  0.06 ,  0.06 ,  0.06 ],\n",
       "       [ 0.12 ,  0.12 ,  0.12 ,  0.12 ,  0.12 ]])"
      ]
     },
     "execution_count": 123,
     "metadata": {},
     "output_type": "execute_result"
    }
   ],
   "source": [
    "P_2 = np.array([[0.02, 0.02, 0.06, 0.3, 0.6]])\n",
    "phi_1_2 = (P_2.T)*(P_3)\n",
    "phi_1_2\n"
   ]
  },
  {
   "cell_type": "code",
   "execution_count": 124,
   "metadata": {},
   "outputs": [
    {
     "name": "stdout",
     "output_type": "stream",
     "text": [
      "[[ 0.04464663  0.13854406  0.21412112  0.29796802  0.42104768]\n",
      " [ 0.03328555  0.10175235  0.14913424  0.1919036   0.25272231]\n",
      " [ 0.01616288  0.07184599  0.10932575  0.13553373  0.16698278]\n",
      " [-0.04254434  0.0050184   0.04177346  0.06422857  0.08339219]\n",
      " [-0.11711273 -0.07947838 -0.03955494 -0.01355466  0.00321104]]\n"
     ]
    },
    {
     "data": {
      "image/png": "[encoded data removed]",
      "text/plain": [
       "<matplotlib.figure.Figure at 0x7ff41cce6e10>"
      ]
     },
     "metadata": {},
     "output_type": "display_data"
    }
   ],
   "source": [
    "derivation1 = phi_1 - phi_1_2\n",
    "print(derivation1)\n",
    "plt.plot(phi_1, 'ro')\n",
    "plt.plot(phi_1_2, 'bo')\n",
    "\n",
    "plt.show()"
   ]
  },
  {
   "cell_type": "code",
   "execution_count": 30,
   "metadata": {},
   "outputs": [
    {
     "data": {
      "image/png": "[encoded data removed]",
      "text/plain": [
       "<matplotlib.figure.Figure at 0x7f32e591c470>"
      ]
     },
     "metadata": {},
     "output_type": "display_data"
    },
    {
     "name": "stdout",
     "output_type": "stream",
     "text": [
      "2.06379144928 1.25571644816 1.20033327616 0.565306062301 0.014802814241 0.00317503506374\n"
     ]
    }
   ],
   "source": [
    "#4-Q(b)\n",
    "import numpy as np\n",
    "import scipy.stats as stats\n",
    "import matplotlib.pyplot as plt\n",
    "import matplotlib.mlab as mlab\n",
    "# create pseudo-random number generator object\n",
    "seed = 1234\n",
    "prng = np.random.RandomState(seed)\n",
    "# load data file (np.load returns dict like object)\n",
    "diag_covar = np.load('/afs/inf.ed.ac.uk/user/s17/s1717961/Desktop/diag_covar.npz')\n",
    "\n",
    "# extract some of variables from loaded dict\n",
    "approx_mean = diag_covar['approx_mean']#Overall mean vector\n",
    "approx_covar = diag_covar['approx_covar']#Overall covariance matrix\n",
    "\n",
    "n_players = diag_covar['n_players']\n",
    "n_games = diag_covar['n_games']\n",
    "skill_prior_var = diag_covar['skill_prior_var']#Skill prior variance\n",
    "\n",
    "alp_id_diag = diag_covar['alpha_go_id']\n",
    "lee_id_diag = diag_covar['lee_sedol_id']\n",
    "ke_id_diag = diag_covar['ke_jie_id']\n",
    "\n",
    "x = np.linspace(0, 15, 100)\n",
    "plt.plot(x,mlab.normpdf(x, approx_mean[1048], approx_covar[1048]), label='alpha_go_diag')\n",
    "plt.plot(x,mlab.normpdf(x, approx_mean[25], approx_covar[25]), label = \"lee_sedol_diag\")\n",
    "plt.plot(x,mlab.normpdf(x, approx_mean[779], approx_covar[779]), label = \"ke_jie_diag\")\n",
    "\n",
    "\n",
    "\n",
    "plt.legend()\n",
    "plt.savefig('/afs/inf.ed.ac.uk/user/s17/s1717961/Desktop/diag_plot')\n",
    "plt.show()\n",
    "print(approx_mean[1048],approx_mean[779] ,approx_mean[25], approx_covar[1048], approx_covar[779], approx_covar[25])\n"
   ]
  },
  {
   "cell_type": "code",
   "execution_count": 17,
   "metadata": {},
   "outputs": [
    {
     "name": "stdout",
     "output_type": "stream",
     "text": [
      "1049 51418 2.9999999999999996\n",
      "1048 25 779\n",
      "2.09129482629\n",
      "-258.538563996\n",
      "2.06379144928 1.20033327616 1.25571644816\n"
     ]
    }
   ],
   "source": [
    "# vector for diag_covar\n",
    "# draw a random skill sample from Gaussian posterior approximation\n",
    "skill_sample = (approx_mean + prng.normal(size=n_players) * approx_covar**0.5)\n",
    "# calculate log probability density at sample point\n",
    "log_pdf_sample = stats.multivariate_normal.logpdf(skill_sample, approx_mean, approx_covar)\n",
    "\n",
    "print(n_players, n_games, skill_prior_var)\n",
    "print(alp_id_diag, lee_id_diag, ke_id_diag)\n",
    "\n",
    "print(skill_sample[1048])\n",
    "print(log_pdf_sample)\n",
    "print(approx_mean[1048], approx_mean[25], approx_mean[779])"
   ]
  },
  {
   "cell_type": "code",
   "execution_count": 29,
   "metadata": {},
   "outputs": [
    {
     "data": {
      "image/png": "[encoded data removed]",
      "text/plain": [
       "<matplotlib.figure.Figure at 0x7f32dd149c88>"
      ]
     },
     "metadata": {},
     "output_type": "display_data"
    },
    {
     "name": "stdout",
     "output_type": "stream",
     "text": [
      "2.85944109371 2.38785849544 2.22357435362 0.536453281323 0.018429031568 0.00667097244514\n"
     ]
    }
   ],
   "source": [
    "full_covar = np.load('/afs/inf.ed.ac.uk/user/s17/s1717961/Desktop/full_covar.npz')\n",
    "m = full_covar['approx_mean']#Overall mean vector\n",
    "V = full_covar['approx_covar']#Overall covariance matrix\n",
    "\n",
    "M = full_covar['n_players']\n",
    "N = full_covar['n_games']\n",
    "sigma2 = full_covar['skill_prior_var']#Skill prior variance\n",
    "\n",
    "alp_id_full = full_covar['alpha_go_id']\n",
    "lee_id_full = full_covar['lee_sedol_id']\n",
    "ke_id_full = full_covar['ke_jie_id']\n",
    "\n",
    "plt.plot(x,mlab.normpdf(x, m[1048], V[1048, 1048]), label='alpha_go_diag')\n",
    "#plt.plot(x,mlab.normpdf(x, m[1045], V[1045, 1045]), label='1045')\n",
    "plt.plot(x,mlab.normpdf(x, m[25], V[25, 25]), label = \"lee_sedol_diag\")\n",
    "plt.plot(x,mlab.normpdf(x, m[779], V[779, 779]), label = \"ke_jie_diag\")\n",
    "#plt.plot(x,mlab.normpdf(x, m[850], V[850, 850]), label = \"850\")\n",
    "\n",
    "plt.legend()\n",
    "plt.savefig('/afs/inf.ed.ac.uk/user/s17/s1717961/Desktop/full_plot')\n",
    "plt.show()\n",
    "\n",
    "print(m[1048],m[779] ,m[25], V[1048, 1048], V[779, 779], V[25, 25])"
   ]
  },
  {
   "cell_type": "markdown",
   "metadata": {},
   "source": [
    "4-Q(c)\n",
    "calculate the predicted probability of AlphaGo winning when playing as black in a single game against Ke Jie, using both the full and diagonal covariance approximate Gaussian posterior densities."
   ]
  },
  {
   "cell_type": "code",
   "execution_count": null,
   "metadata": {
    "collapsed": true
   },
   "outputs": [],
   "source": [
    "med1 = 0\n",
    "med2 = 0\n",
    "#overall mean nad variance of these two players\n",
    "for i in range(1049):\n",
    "    \n",
    "    var_779 += V[779,i]\n",
    "    var_1048 += V[1048, i]\n",
    "\n",
    "    med1 +=  (V[1048, i]**(-1))*m_1048\n",
    "    med2 +=  (V[779, i]**(-1))*m_779\n",
    "    \n",
    "mean_1048 = var_1048*med1\n",
    "mean_779 = var_779*med2\n",
    "\n"
   ]
  },
  {
   "cell_type": "code",
   "execution_count": 19,
   "metadata": {},
   "outputs": [
    {
     "data": {
      "text/plain": [
       "array([ 0.61614135])"
      ]
     },
     "execution_count": 19,
     "metadata": {},
     "output_type": "execute_result"
    }
   ],
   "source": [
    "from scipy.stats import norm\n",
    "#P[r*=1|sb, sw]\n",
    "#mean value of AlphaGo and Ke Jie using the full\n",
    "m_1048 = m[1048]\n",
    "m_779 = m[779]\n",
    "m_full = np.zeros((2, 1))\n",
    "m_full[0,0], m_full[1,0] = m_1048, m_779\n",
    "\n",
    "#variance of AlphaGo and Ke Jie using the full\n",
    "var_1048 = V[1048, 1048]\n",
    "var_779 = V[779, 779]\n",
    "\n",
    "V_full = np.zeros((2, 2))\n",
    "V_full[0,0], V_full[1, 1]=var_1048, var_779\n",
    "V_full[0,1], V_full[1, 0]=V[1048, 779], V[779, 1048]\n",
    "V_full\n",
    "\n",
    "X = np.array([1/np.sqrt(2), -1/np.sqrt(2)])\n",
    "\n",
    "function = ((m_full.T).dot(X))/np.sqrt(((X.T).dot(V_full)).dot(X) + 1)\n",
    "\n",
    "norm.cdf(function)"
   ]
  },
  {
   "cell_type": "code",
   "execution_count": 20,
   "metadata": {},
   "outputs": [
    {
     "data": {
      "text/plain": [
       "array([ 0.95373763])"
      ]
     },
     "execution_count": 20,
     "metadata": {},
     "output_type": "execute_result"
    }
   ],
   "source": [
    "m_full2 = np.zeros((2, 1))\n",
    "m_full2[0,0], m_full[1,0] = m[779], m[25]\n",
    "\n",
    "V_full2 = np.zeros((2, 2))\n",
    "V_full2[0,0], V_full[1, 1]=V[779, 779], V[25, 25]\n",
    "V_full2[0,1], V_full[1, 0]=V[779, 25], V[25, 779]\n",
    "test = ((m_full2.T).dot(X))/np.sqrt(((X.T).dot(V_full2)).dot(X) + 1)\n",
    "norm.cdf(test)"
   ]
  },
  {
   "cell_type": "code",
   "execution_count": 21,
   "metadata": {},
   "outputs": [
    {
     "data": {
      "text/plain": [
       "0.69254419571663783"
      ]
     },
     "execution_count": 21,
     "metadata": {},
     "output_type": "execute_result"
    }
   ],
   "source": [
    "\n",
    "#mean value of AlphaGo and Ke Jie using the diag\n",
    "m2_1048 = approx_mean[1048]\n",
    "m2_779 = approx_mean[779]\n",
    "m_diag = np.zeros((2, ))\n",
    "m_diag[0,], m_diag[1,] = m2_1048, m2_779\n",
    "\n",
    "#variance of AlphaGo and Ke Jie using the diag\n",
    "\n",
    "var2_779 = approx_covar[779]\n",
    "var2_1048 = approx_covar[1048]\n",
    "\n",
    "V_diag = np.zeros((2, 2))\n",
    "V_diag[0,0], V_diag[1,1] = var2_1048, var2_779\n",
    "V_diag [0, 1], V_diag[1, 0] = 0, 0\n",
    "\n",
    "function_diag = ((m_diag.T).dot(X))/np.sqrt(((X.T).dot(V_diag)).dot(X) + 1)\n",
    "\n",
    "norm.cdf(function_diag)"
   ]
  },
  {
   "cell_type": "code",
   "execution_count": 46,
   "metadata": {},
   "outputs": [
    {
     "data": {
      "text/plain": [
       "0.38926457976846368"
      ]
     },
     "execution_count": 46,
     "metadata": {},
     "output_type": "execute_result"
    }
   ],
   "source": [
    "#diagonal\n",
    "X2 = np.zeros((1049,))\n",
    "X2[1048, ], X2[779, ] = 1/np.sqrt(2), -1/np.sqrt(2)\n",
    "#function2 = (approx_mean.T).dot(X2)/np.sqrt(((X2.T).dot(approx_covar)).dot(X2)+1)\n",
    "#norm.cdf(function2)\n",
    "#print((approx_mean.T).dot(X2), np.sqrt(((X2.T).dot(approx_covar)).dot(X2)+1))\n",
    "(approx_mean.T).dot(X2)\n",
    "#np.sqrt(((X2.T).dot(approx_covar)).dot(X2)+1)\n",
    "((X2.T).dot(approx_covar))"
   ]
  },
  {
   "cell_type": "code",
   "execution_count": 88,
   "metadata": {},
   "outputs": [
    {
     "data": {
      "text/plain": [
       "0.61614135456909924"
      ]
     },
     "execution_count": 88,
     "metadata": {},
     "output_type": "execute_result"
    }
   ],
   "source": [
    "#full\n",
    "X1 = np.zeros((1049,))\n",
    "X1[1048, ], X1[779, ] = 1/np.sqrt(2), -1/np.sqrt(2)\n",
    "function2 = (m.T).dot(X1)/np.sqrt(((X1.T).dot(V)).dot(X1)+1)\n",
    "norm.cdf(function2)\n",
    "#print((approx_mean.T).dot(X2), np.sqrt(((X2.T).dot(approx_covar)).dot(X2)+1))\n",
    "#(approx_mean.T).dot(X2)\n",
    "#np.sqrt(((X2.T).dot(approx_covar)).dot(X2)+1)\n",
    "#((X2.T).dot(approx_covar))"
   ]
  },
  {
   "cell_type": "markdown",
   "metadata": {},
   "source": [
    "Q4(d)\n",
    "State the number of independent parameters for both the full-covariance and diagonal-covariance EP approximation defined in Equations (9) and (10)."
   ]
  },
  {
   "cell_type": "code",
   "execution_count": null,
   "metadata": {
    "collapsed": true
   },
   "outputs": [],
   "source": []
  }
 ],
 "metadata": {
  "kernelspec": {
   "display_name": "Python 3",
   "language": "python",
   "name": "python3"
  },
  "language_info": {
   "codemirror_mode": {
    "name": "ipython",
    "version": 3
   },
   "file_extension": ".py",
   "mimetype": "text/x-python",
   "name": "python",
   "nbconvert_exporter": "python",
   "pygments_lexer": "ipython3",
   "version": "3.6.2"
  }
 },
 "nbformat": 4,
 "nbformat_minor": 2
}
